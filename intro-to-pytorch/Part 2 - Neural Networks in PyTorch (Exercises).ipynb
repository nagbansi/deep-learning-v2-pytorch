{
 "cells": [
  {
   "cell_type": "markdown",
   "metadata": {},
   "source": [
    "# Neural networks with PyTorch\n",
    "\n",
    "Deep learning networks tend to be massive with dozens or hundreds of layers, that's where the term \"deep\" comes from. You can build one of these deep networks using only weight matrices as we did in the previous notebook, but in general it's very cumbersome and difficult to implement. PyTorch has a nice module `nn` that provides a nice way to efficiently build large neural networks."
   ]
  },
  {
   "cell_type": "code",
   "execution_count": 1,
   "metadata": {},
   "outputs": [],
   "source": [
    "# Import necessary packages\n",
    "\n",
    "%matplotlib inline\n",
    "%config InlineBackend.figure_format = 'retina'\n",
    "\n",
    "import numpy as np\n",
    "import torch\n",
    "\n",
    "import helper\n",
    "\n",
    "import matplotlib.pyplot as plt"
   ]
  },
  {
   "cell_type": "markdown",
   "metadata": {},
   "source": [
    "\n",
    "Now we're going to build a larger network that can solve a (formerly) difficult problem, identifying text in an image. Here we'll use the MNIST dataset which consists of greyscale handwritten digits. Each image is 28x28 pixels, you can see a sample below\n",
    "\n",
    "<img src='assets/mnist.png'>\n",
    "\n",
    "Our goal is to build a neural network that can take one of these images and predict the digit in the image.\n",
    "\n",
    "First up, we need to get our dataset. This is provided through the `torchvision` package. The code below will download the MNIST dataset, then create training and test datasets for us. Don't worry too much about the details here, you'll learn more about this later."
   ]
  },
  {
   "cell_type": "code",
   "execution_count": 2,
   "metadata": {},
   "outputs": [],
   "source": [
    "### Run this cell\n",
    "\n",
    "from torchvision import datasets, transforms\n",
    "\n",
    "# Define a transform to normalize the data\n",
    "transform = transforms.Compose([transforms.ToTensor(),\n",
    "                              transforms.Normalize((0.5, 0.5, 0.5), (0.5, 0.5, 0.5)),\n",
    "                              ])\n",
    "\n",
    "# Download and load the training data\n",
    "trainset = datasets.MNIST('MNIST_data/', download=True, train=True, transform=transform)\n",
    "trainloader = torch.utils.data.DataLoader(trainset, batch_size=64, shuffle=True)"
   ]
  },
  {
   "cell_type": "markdown",
   "metadata": {},
   "source": [
    "We have the training data loaded into `trainloader` and we make that an iterator with `iter(trainloader)`. Later, we'll use this to loop through the dataset for training, like\n",
    "\n",
    "```python\n",
    "for image, label in trainloader:\n",
    "    ## do things with images and labels\n",
    "```\n",
    "\n",
    "You'll notice I created the `trainloader` with a batch size of 64, and `shuffle=True`. The batch size is the number of images we get in one iteration from the data loader and pass through our network, often called a *batch*. And `shuffle=True` tells it to shuffle the dataset every time we start going through the data loader again. But here I'm just grabbing the first batch so we can check out the data. We can see below that `images` is just a tensor with size `(64, 1, 28, 28)`. So, 64 images per batch, 1 color channel, and 28x28 images."
   ]
  },
  {
   "cell_type": "code",
   "execution_count": 3,
   "metadata": {},
   "outputs": [
    {
     "name": "stdout",
     "output_type": "stream",
     "text": [
      "<class 'torch.Tensor'>\n",
      "torch.Size([64, 1, 28, 28])\n",
      "torch.Size([64])\n"
     ]
    }
   ],
   "source": [
    "dataiter = iter(trainloader)\n",
    "images, labels = dataiter.next()\n",
    "print(type(images))\n",
    "print(images.shape)\n",
    "print(labels.shape)"
   ]
  },
  {
   "cell_type": "markdown",
   "metadata": {},
   "source": [
    "This is what one of the images looks like. "
   ]
  },
  {
   "cell_type": "code",
   "execution_count": 4,
   "metadata": {},
   "outputs": [
    {
     "data": {
      "image/png": "[encoded data removed]",
      "text/plain": [
       "<Figure size 432x288 with 1 Axes>"
      ]
     },
     "metadata": {
      "image/png": {
       "height": 250,
       "width": 253
      },
      "needs_background": "light"
     },
     "output_type": "display_data"
    }
   ],
   "source": [
    "plt.imshow(images[1].numpy().squeeze(), cmap='Greys_r');"
   ]
  },
  {
   "cell_type": "markdown",
   "metadata": {},
   "source": [
    "First, let's try to build a simple network for this dataset using weight matrices and matrix multiplications. Then, we'll see how to do it using PyTorch's `nn` module which provides a much more convenient and powerful method for defining network architectures.\n",
    "\n",
    "The networks you've seen so far are called *fully-connected* or *dense* networks. Each unit in one layer is connected to each unit in the next layer. In fully-connected networks, the input to each layer must be a one-dimensional vector (which can be stacked into a 2D tensor as a batch of multiple examples). However, our images are 28x28 2D tensors, so we need to convert them into 1D vectors. Thinking about sizes, we need to convert the batch of images with shape `(64, 1, 28, 28)` to a have a shape of `(64, 784)`, 784 is 28 times 28. This is typically called *flattening*, we flattened the 2D images into 1D vectors.\n",
    "\n",
    "Previously you built a network with one output unit. Here we need 10 output units, one for each digit. We want our network to predict the digit shown in an image, so what we'll do is calculate probabilities that the image is of any one digit or class. This ends up being a discrete probability distribution over the classes (digits) that tells us the most likely class for the image. That means we need 10 output units for the 10 classes (digits). We'll see how to convert the network output into a probability distribution next.\n",
    "\n",
    "> **Exercise:** Flatten the batch of images `images`. Then build a multi-layer network with 784 input units, 256 hidden units, and 10 output units using random tensors for the weights and biases. For now, use a sigmoid activation for the hidden layer. Leave the output layer without an activation, we'll add one that gives us a probability distribution next."
   ]
  },
  {
   "cell_type": "code",
   "execution_count": 5,
   "metadata": {},
   "outputs": [],
   "source": [
    "## Your solution\n",
    "\n",
    "# output of your network, should have shape (64,10)\n",
    "def activation(x):\n",
    "    return 1/(1+torch.exp(-x))\n",
    "\n",
    "#Flatten the input images\n",
    "inputs = images.view(images.shape[0], -1)\n",
    "\n",
    "#create parameters\n",
    "w1 = torch.randn(784, 256)\n",
    "b1 = torch.randn(256)\n",
    "\n",
    "w2 = torch.randn(256, 10)\n",
    "b2 = torch.randn(10)\n",
    "\n",
    "h = activation(torch.mm(inputs, w1) + b1)\n",
    "out = torch.mm(h, w2) + b2"
   ]
  },
  {
   "cell_type": "markdown",
   "metadata": {},
   "source": [
    "Now we have 10 outputs for our network. We want to pass in an image to our network and get out a probability distribution over the classes that tells us the likely class(es) the image belongs to. Something that looks like this:\n",
    "<img src='assets/image_distribution.png' width=500px>\n",
    "\n",
    "Here we see that the probability for each class is roughly the same. This is representing an untrained network, it hasn't seen any data yet so it just returns a uniform distribution with equal probabilities for each class.\n",
    "\n",
    "To calculate this probability distribution, we often use the [**softmax** function](https://en.wikipedia.org/wiki/Softmax_function). Mathematically this looks like\n",
    "\n",
    "$$\n",
    "\\Large \\sigma(x_i) = \\cfrac{e^{x_i}}{\\sum_k^K{e^{x_k}}}\n",
    "$$\n",
    "\n",
    "What this does is squish each input $x_i$ between 0 and 1 and normalizes the values to give you a proper probability distribution where the probabilites sum up to one.\n",
    "\n",
    "> **Exercise:** Implement a function `softmax` that performs the softmax calculation and returns probability distributions for each example in the batch. Note that you'll need to pay attention to the shapes when doing this. If you have a tensor `a` with shape `(64, 10)` and a tensor `b` with shape `(64,)`, doing `a/b` will give you an error because PyTorch will try to do the division across the columns (called broadcasting) but you'll get a size mismatch. The way to think about this is for each of the 64 examples, you only want to divide by one value, the sum in the denominator. So you need `b` to have a shape of `(64, 1)`. This way PyTorch will divide the 10 values in each row of `a` by the one value in each row of `b`. Pay attention to how you take the sum as well. You'll need to define the `dim` keyword in `torch.sum`. Setting `dim=0` takes the sum across the rows while `dim=1` takes the sum across the columns."
   ]
  },
  {
   "cell_type": "code",
   "execution_count": 6,
   "metadata": {},
   "outputs": [
    {
     "name": "stdout",
     "output_type": "stream",
     "text": [
      "torch.Size([64, 10])\n",
      "tensor([1.0000, 1.0000, 1.0000, 1.0000, 1.0000, 1.0000, 1.0000, 1.0000, 1.0000,\n",
      "        1.0000, 1.0000, 1.0000, 1.0000, 1.0000, 1.0000, 1.0000, 1.0000, 1.0000,\n",
      "        1.0000, 1.0000, 1.0000, 1.0000, 1.0000, 1.0000, 1.0000, 1.0000, 1.0000,\n",
      "        1.0000, 1.0000, 1.0000, 1.0000, 1.0000, 1.0000, 1.0000, 1.0000, 1.0000,\n",
      "        1.0000, 1.0000, 1.0000, 1.0000, 1.0000, 1.0000, 1.0000, 1.0000, 1.0000,\n",
      "        1.0000, 1.0000, 1.0000, 1.0000, 1.0000, 1.0000, 1.0000, 1.0000, 1.0000,\n",
      "        1.0000, 1.0000, 1.0000, 1.0000, 1.0000, 1.0000, 1.0000, 1.0000, 1.0000,\n",
      "        1.0000])\n",
      "tensor([[8.4273e-09, 4.2559e-16, 8.4175e-18, 9.9976e-01, 1.1976e-10, 4.8141e-13,\n",
      "         5.6116e-10, 1.7461e-11, 2.1549e-05, 2.1858e-04],\n",
      "        [6.7366e-08, 9.8326e-10, 2.7645e-10, 9.8495e-01, 3.6543e-13, 6.8940e-13,\n",
      "         1.5039e-02, 4.3941e-06, 6.5580e-10, 3.5758e-06],\n",
      "        [3.0703e-10, 2.8504e-10, 1.8877e-08, 9.9993e-01, 2.6095e-08, 3.1901e-14,\n",
      "         5.8546e-05, 4.0972e-12, 6.0746e-06, 5.9264e-06],\n",
      "        [1.3046e-05, 5.5963e-14, 5.9519e-10, 6.4639e-01, 1.3243e-11, 1.2858e-15,\n",
      "         5.6176e-06, 2.9347e-03, 3.5011e-01, 5.4522e-04],\n",
      "        [1.4138e-10, 7.7635e-11, 9.2047e-08, 4.0262e-01, 1.0694e-10, 3.2454e-16,\n",
      "         4.4857e-05, 4.9902e-13, 2.4048e-08, 5.9734e-01],\n",
      "        [1.4925e-10, 3.6004e-12, 2.0270e-07, 9.6174e-01, 3.0743e-12, 6.8687e-12,\n",
      "         2.5616e-03, 1.1265e-06, 3.9577e-03, 3.1743e-02],\n",
      "        [5.8008e-07, 8.4409e-12, 5.3181e-08, 4.5692e-01, 2.3982e-10, 4.7260e-13,\n",
      "         4.8110e-08, 1.1842e-06, 1.6099e-03, 5.4147e-01],\n",
      "        [6.0732e-07, 2.3226e-15, 2.6605e-16, 9.9119e-01, 3.6702e-10, 1.6152e-16,\n",
      "         3.5450e-08, 1.1060e-09, 1.2240e-09, 8.8139e-03],\n",
      "        [8.7374e-08, 4.6839e-15, 4.2693e-13, 8.3820e-01, 5.2973e-15, 4.8157e-17,\n",
      "         9.2494e-03, 8.6184e-07, 1.5008e-01, 2.4738e-03],\n",
      "        [3.5301e-09, 4.2503e-10, 4.4261e-08, 9.9982e-01, 1.3192e-09, 4.3459e-15,\n",
      "         1.2004e-06, 9.6489e-12, 1.7234e-06, 1.7607e-04],\n",
      "        [1.1756e-07, 4.3141e-14, 9.2826e-14, 9.9959e-01, 3.1006e-09, 9.1323e-19,\n",
      "         6.7969e-06, 1.8997e-09, 1.4795e-04, 2.5287e-04],\n",
      "        [3.4010e-09, 6.6266e-15, 4.9517e-09, 3.8595e-01, 1.9403e-08, 3.4767e-12,\n",
      "         4.3168e-01, 3.0349e-09, 3.5208e-05, 1.8234e-01],\n",
      "        [8.2010e-10, 7.9980e-18, 3.7818e-18, 1.0000e+00, 2.8131e-14, 5.4943e-14,\n",
      "         1.1551e-09, 1.9706e-09, 8.1705e-10, 1.9558e-09],\n",
      "        [4.1046e-08, 1.9820e-16, 1.2589e-16, 9.9560e-01, 5.9717e-11, 2.3995e-20,\n",
      "         1.7887e-08, 4.5480e-12, 1.4833e-06, 4.3943e-03],\n",
      "        [4.8015e-06, 1.3647e-12, 7.7693e-08, 1.6479e-01, 7.5474e-12, 6.4921e-20,\n",
      "         1.6118e-01, 2.1249e-09, 1.9805e-09, 6.7402e-01],\n",
      "        [7.4966e-06, 1.3863e-14, 1.1296e-15, 9.8229e-01, 6.2134e-17, 1.4604e-17,\n",
      "         1.2397e-08, 8.2437e-09, 1.6377e-08, 1.7700e-02],\n",
      "        [2.5057e-06, 1.5165e-11, 6.6680e-08, 6.4357e-01, 6.8068e-08, 8.7587e-13,\n",
      "         3.5600e-01, 1.1672e-05, 3.1802e-04, 9.5870e-05],\n",
      "        [2.5826e-11, 8.6229e-15, 1.5252e-11, 9.8788e-01, 1.1532e-11, 3.5753e-18,\n",
      "         1.1679e-05, 2.7380e-12, 6.0410e-07, 1.2111e-02],\n",
      "        [2.9186e-12, 2.9932e-12, 1.5657e-12, 1.0000e+00, 1.9127e-13, 2.7276e-18,\n",
      "         8.1772e-08, 1.0604e-10, 2.3862e-08, 6.6193e-09],\n",
      "        [1.3152e-07, 2.1009e-13, 8.4634e-13, 9.9963e-01, 1.0814e-12, 4.5714e-19,\n",
      "         2.3522e-06, 2.9446e-08, 5.2288e-07, 3.7085e-04],\n",
      "        [8.5781e-09, 4.4200e-12, 1.2270e-08, 9.9589e-01, 7.6287e-09, 6.7895e-18,\n",
      "         3.9531e-03, 2.3067e-09, 2.4807e-05, 1.3650e-04],\n",
      "        [2.7449e-06, 4.1430e-13, 6.0416e-15, 9.7736e-01, 1.3726e-09, 1.4254e-13,\n",
      "         8.1985e-05, 4.0196e-10, 2.2556e-02, 1.5888e-06],\n",
      "        [1.1136e-05, 1.8133e-09, 9.0033e-09, 9.7871e-01, 4.3526e-13, 2.6147e-14,\n",
      "         4.7557e-03, 2.7230e-08, 6.3186e-07, 1.6524e-02],\n",
      "        [5.2987e-09, 1.1006e-13, 4.4032e-16, 9.7949e-01, 1.0425e-09, 2.2441e-20,\n",
      "         1.5846e-02, 1.8291e-10, 4.4038e-03, 2.5983e-04],\n",
      "        [5.8913e-07, 7.5754e-08, 9.0591e-11, 9.7425e-01, 8.4161e-09, 2.0107e-13,\n",
      "         8.4516e-03, 2.9083e-08, 1.6699e-02, 5.9647e-04],\n",
      "        [4.9234e-13, 1.5248e-15, 1.9202e-13, 9.9601e-01, 1.5755e-12, 3.0491e-22,\n",
      "         1.1117e-07, 2.3178e-13, 8.7030e-12, 3.9892e-03],\n",
      "        [3.5947e-08, 1.9495e-15, 6.2378e-16, 1.0000e+00, 1.1096e-17, 6.4480e-19,\n",
      "         1.0042e-10, 4.8052e-15, 5.3561e-09, 2.2325e-06],\n",
      "        [9.2484e-08, 1.1192e-15, 1.1185e-17, 1.0000e+00, 2.6918e-14, 4.5721e-20,\n",
      "         3.7897e-10, 4.7800e-13, 7.7941e-12, 4.5320e-09],\n",
      "        [7.8246e-09, 9.3831e-14, 1.4804e-14, 3.6007e-01, 1.2884e-11, 2.0322e-16,\n",
      "         5.4902e-05, 1.8340e-11, 2.6278e-04, 6.3962e-01],\n",
      "        [4.0392e-05, 2.2941e-10, 2.0501e-12, 4.7396e-01, 2.9043e-11, 1.2183e-15,\n",
      "         2.4880e-01, 1.5543e-09, 2.7229e-01, 4.9089e-03],\n",
      "        [6.8275e-09, 3.7376e-10, 3.4758e-09, 6.5996e-01, 5.8024e-13, 2.7732e-17,\n",
      "         9.3797e-06, 1.0037e-09, 5.2175e-08, 3.4003e-01],\n",
      "        [4.7893e-07, 2.9281e-16, 7.4090e-18, 1.0000e+00, 1.6284e-13, 1.1201e-18,\n",
      "         5.8268e-10, 1.5812e-11, 7.7875e-09, 9.3673e-09],\n",
      "        [4.6165e-09, 1.8314e-13, 4.5693e-13, 9.9998e-01, 1.5466e-16, 2.7989e-22,\n",
      "         4.8572e-11, 5.3956e-10, 7.9565e-06, 1.1325e-05],\n",
      "        [2.9915e-12, 1.5498e-12, 8.2970e-19, 9.2161e-01, 8.4867e-07, 1.2410e-19,\n",
      "         8.1888e-06, 1.2797e-15, 1.0050e-04, 7.8277e-02],\n",
      "        [1.1622e-09, 2.9482e-11, 1.4898e-06, 6.5493e-01, 3.3982e-13, 2.6135e-15,\n",
      "         3.8988e-06, 1.1678e-13, 1.8813e-08, 3.4507e-01],\n",
      "        [9.3011e-08, 1.1472e-15, 2.1422e-16, 9.9786e-01, 9.6543e-11, 6.4055e-21,\n",
      "         5.2708e-06, 5.5148e-16, 3.0529e-08, 2.1309e-03],\n",
      "        [2.6604e-14, 3.8911e-16, 8.9311e-20, 9.9999e-01, 3.4832e-09, 6.6879e-24,\n",
      "         2.6589e-07, 2.8722e-17, 9.1753e-09, 6.4670e-06],\n",
      "        [8.9465e-11, 2.4265e-14, 1.1795e-15, 9.9801e-01, 1.7861e-16, 9.5521e-19,\n",
      "         1.0381e-06, 6.8968e-15, 2.4568e-10, 1.9907e-03],\n",
      "        [3.5451e-09, 7.4686e-17, 1.6742e-17, 1.8006e-05, 5.6179e-14, 7.1140e-21,\n",
      "         2.6269e-06, 1.4310e-12, 1.0690e-04, 9.9987e-01],\n",
      "        [7.9148e-09, 3.3441e-17, 2.1904e-18, 1.0000e+00, 9.5845e-10, 6.0216e-22,\n",
      "         1.1773e-06, 6.0052e-15, 5.4132e-07, 1.4574e-06],\n",
      "        [3.5875e-10, 4.1482e-13, 1.1980e-14, 9.3382e-01, 9.7654e-09, 1.2924e-15,\n",
      "         7.6970e-03, 7.8804e-14, 4.4613e-04, 5.8032e-02],\n",
      "        [3.7245e-08, 6.2270e-17, 3.6359e-19, 9.9953e-01, 5.1660e-12, 3.0751e-15,\n",
      "         1.1215e-05, 4.2788e-09, 1.9065e-05, 4.4359e-04],\n",
      "        [4.5273e-09, 1.0095e-11, 9.1831e-13, 9.6470e-01, 7.7702e-14, 2.6395e-18,\n",
      "         3.4428e-02, 2.6531e-08, 5.2681e-08, 8.7675e-04],\n",
      "        [1.6330e-11, 4.9284e-12, 2.6175e-10, 9.4750e-01, 1.1299e-10, 4.7007e-15,\n",
      "         2.5137e-03, 5.5072e-12, 8.5752e-05, 4.9900e-02],\n",
      "        [6.3180e-10, 3.2130e-16, 2.1530e-13, 9.7186e-01, 4.5241e-10, 1.1048e-16,\n",
      "         2.2213e-02, 3.2292e-14, 1.7058e-03, 4.2246e-03],\n",
      "        [1.4275e-08, 1.6958e-14, 2.3511e-13, 9.9913e-01, 5.9809e-12, 2.8652e-23,\n",
      "         4.2720e-05, 1.7558e-13, 1.1039e-09, 8.2720e-04],\n",
      "        [2.4824e-07, 2.1257e-13, 6.2076e-11, 9.9581e-01, 1.9261e-16, 2.8545e-18,\n",
      "         7.1606e-08, 3.6077e-06, 1.4794e-08, 4.1885e-03],\n",
      "        [1.5684e-06, 2.5681e-15, 9.9881e-13, 9.0569e-02, 2.8639e-11, 3.0363e-22,\n",
      "         3.2096e-07, 1.9307e-15, 3.4801e-09, 9.0943e-01],\n",
      "        [6.8009e-05, 1.1507e-07, 1.9849e-11, 9.7479e-01, 8.3511e-09, 2.4552e-11,\n",
      "         2.9909e-04, 5.6619e-07, 7.3627e-03, 1.7482e-02],\n",
      "        [1.0582e-07, 1.5508e-16, 4.8845e-14, 9.9970e-01, 1.9647e-11, 2.4661e-20,\n",
      "         3.2704e-05, 1.5629e-14, 1.1418e-05, 2.5498e-04],\n",
      "        [1.4015e-09, 2.7703e-10, 1.3473e-08, 7.8295e-01, 9.8386e-09, 3.1899e-13,\n",
      "         1.5189e-04, 1.4661e-09, 5.1335e-07, 2.1689e-01],\n",
      "        [5.3666e-11, 1.1930e-14, 1.3579e-15, 3.2750e-02, 4.2163e-11, 6.6842e-17,\n",
      "         1.1701e-11, 4.7680e-07, 3.2688e-09, 9.6725e-01],\n",
      "        [3.1073e-06, 2.0115e-12, 7.1161e-16, 9.2900e-01, 2.0125e-11, 2.8921e-16,\n",
      "         1.5141e-02, 1.0132e-11, 1.7680e-08, 5.5861e-02],\n",
      "        [6.4288e-12, 1.8540e-14, 3.4891e-18, 1.5452e-03, 9.9025e-07, 9.5484e-25,\n",
      "         1.1937e-06, 6.5822e-17, 1.0312e-06, 9.9845e-01],\n",
      "        [2.0401e-04, 1.1727e-12, 5.0794e-16, 1.5010e-01, 8.1563e-06, 6.7294e-18,\n",
      "         1.3695e-02, 1.6265e-11, 7.1036e-01, 1.2563e-01],\n",
      "        [7.2827e-07, 1.0636e-13, 4.4873e-12, 4.8626e-01, 2.7830e-05, 7.1511e-16,\n",
      "         5.1031e-04, 5.7745e-11, 1.2190e-01, 3.9130e-01],\n",
      "        [5.0939e-10, 2.1920e-12, 4.8728e-15, 9.9967e-01, 1.3575e-13, 7.5993e-20,\n",
      "         2.2891e-08, 6.6795e-15, 4.3489e-11, 3.3248e-04],\n",
      "        [3.9671e-12, 2.2334e-15, 4.7067e-14, 1.0000e+00, 2.2366e-17, 7.0708e-23,\n",
      "         1.1784e-08, 8.1142e-11, 1.1656e-08, 4.9838e-07],\n",
      "        [2.0305e-07, 1.4476e-16, 6.7746e-19, 1.0000e+00, 3.2591e-12, 3.6494e-15,\n",
      "         2.7295e-10, 2.5753e-09, 8.0962e-14, 4.0230e-07],\n",
      "        [7.1435e-04, 3.5855e-13, 3.6230e-10, 9.2718e-01, 1.9382e-11, 3.7532e-11,\n",
      "         8.0956e-03, 1.0418e-07, 3.3648e-03, 6.0641e-02],\n",
      "        [8.9863e-11, 2.0975e-16, 2.4496e-18, 9.9968e-01, 1.6521e-10, 2.7733e-20,\n",
      "         7.8337e-06, 1.2066e-13, 1.5424e-07, 3.1694e-04],\n",
      "        [1.4183e-06, 3.5264e-12, 2.2206e-05, 9.7473e-03, 6.7984e-13, 5.6277e-14,\n",
      "         1.1824e-01, 8.2040e-07, 7.3097e-02, 7.9889e-01],\n",
      "        [3.2470e-13, 5.2813e-15, 2.5200e-16, 1.4743e-01, 5.1882e-12, 5.3976e-24,\n",
      "         2.7642e-08, 2.0477e-14, 2.3929e-10, 8.5257e-01],\n",
      "        [8.2378e-09, 2.0165e-12, 1.7606e-12, 9.7598e-01, 4.2081e-07, 1.2263e-21,\n",
      "         4.2371e-03, 7.1840e-13, 6.7768e-06, 1.9781e-02]])\n"
     ]
    }
   ],
   "source": [
    "def softmax(x):\n",
    "    ## TODO: Implement the softmax function here\n",
    "    return torch.exp(x)/torch.sum(torch.exp(x), dim = 1).view(-1,1)\n",
    "\n",
    "# Here, out should be the output of the network in the previous excercise with shape (64,10)\n",
    "probabilities = softmax(out)\n",
    "\n",
    "# Does it have the right shape? Should be (64, 10)\n",
    "print(probabilities.shape)\n",
    "# Does it sum to 1?\n",
    "print(probabilities.sum(dim=1))\n",
    "print(probabilities)"
   ]
  },
  {
   "cell_type": "markdown",
   "metadata": {},
   "source": [
    "## Building networks with PyTorch\n",
    "\n",
    "PyTorch provides a module `nn` that makes building networks much simpler. Here I'll show you how to build the same one as above with 784 inputs, 256 hidden units, 10 output units and a softmax output."
   ]
  },
  {
   "cell_type": "code",
   "execution_count": 7,
   "metadata": {},
   "outputs": [],
   "source": [
    "from torch import nn"
   ]
  },
  {
   "cell_type": "code",
   "execution_count": 8,
   "metadata": {},
   "outputs": [],
   "source": [
    "class Network(nn.Module):\n",
    "    def __init__(self):\n",
    "        super().__init__()\n",
    "        \n",
    "        # Inputs to hidden layer linear transformation\n",
    "        self.hidden = nn.Linear(784, 256)\n",
    "        # Output layer, 10 units - one for each digit\n",
    "        self.output = nn.Linear(256, 10)\n",
    "        \n",
    "        # Define sigmoid activation and softmax output \n",
    "        self.sigmoid = nn.Sigmoid()\n",
    "        self.softmax = nn.Softmax(dim=1)\n",
    "        \n",
    "    def forward(self, x):\n",
    "        # Pass the input tensor through each of our operations\n",
    "        x = self.hidden(x)\n",
    "        x = self.sigmoid(x)\n",
    "        x = self.output(x)\n",
    "        x = self.softmax(x)\n",
    "        \n",
    "        return x"
   ]
  },
  {
   "cell_type": "markdown",
   "metadata": {},
   "source": [
    "Let's go through this bit by bit.\n",
    "\n",
    "```python\n",
    "class Network(nn.Module):\n",
    "```\n",
    "\n",
    "Here we're inheriting from `nn.Module`. Combined with `super().__init__()` this creates a class that tracks the architecture and provides a lot of useful methods and attributes. It is mandatory to inherit from `nn.Module` when you're creating a class for your network. The name of the class itself can be anything.\n",
    "\n",
    "```python\n",
    "self.hidden = nn.Linear(784, 256)\n",
    "```\n",
    "\n",
    "This line creates a module for a linear transformation, $x\\mathbf{W} + b$, with 784 inputs and 256 outputs and assigns it to `self.hidden`. The module automatically creates the weight and bias tensors which we'll use in the `forward` method. You can access the weight and bias tensors once the network once it's create at `net.hidden.weight` and `net.hidden.bias`.\n",
    "\n",
    "```python\n",
    "self.output = nn.Linear(256, 10)\n",
    "```\n",
    "\n",
    "Similarly, this creates another linear transformation with 256 inputs and 10 outputs.\n",
    "\n",
    "```python\n",
    "self.sigmoid = nn.Sigmoid()\n",
    "self.softmax = nn.Softmax(dim=1)\n",
    "```\n",
    "\n",
    "Here I defined operations for the sigmoid activation and softmax output. Setting `dim=1` in `nn.Softmax(dim=1)` calculates softmax across the columns.\n",
    "\n",
    "```python\n",
    "def forward(self, x):\n",
    "```\n",
    "\n",
    "PyTorch networks created with `nn.Module` must have a `forward` method defined. It takes in a tensor `x` and passes it through the operations you defined in the `__init__` method.\n",
    "\n",
    "```python\n",
    "x = self.hidden(x)\n",
    "x = self.sigmoid(x)\n",
    "x = self.output(x)\n",
    "x = self.softmax(x)\n",
    "```\n",
    "\n",
    "Here the input tensor `x` is passed through each operation a reassigned to `x`. We can see that the input tensor goes through the hidden layer, then a sigmoid function, then the output layer, and finally the softmax function. It doesn't matter what you name the variables here, as long as the inputs and outputs of the operations match the network architecture you want to build. The order in which you define things in the `__init__` method doesn't matter, but you'll need to sequence the operations correctly in the `forward` method.\n",
    "\n",
    "Now we can create a `Network` object."
   ]
  },
  {
   "cell_type": "code",
   "execution_count": 9,
   "metadata": {},
   "outputs": [
    {
     "data": {
      "text/plain": [
       "Network(\n",
       "  (hidden): Linear(in_features=784, out_features=256, bias=True)\n",
       "  (output): Linear(in_features=256, out_features=10, bias=True)\n",
       "  (sigmoid): Sigmoid()\n",
       "  (softmax): Softmax()\n",
       ")"
      ]
     },
     "execution_count": 9,
     "metadata": {},
     "output_type": "execute_result"
    }
   ],
   "source": [
    "# Create the network and look at it's text representation\n",
    "model = Network()\n",
    "model"
   ]
  },
  {
   "cell_type": "markdown",
   "metadata": {},
   "source": [
    "You can define the network somewhat more concisely and clearly using the `torch.nn.functional` module. This is the most common way you'll see networks defined as many operations are simple element-wise functions. We normally import this module as `F`, `import torch.nn.functional as F`."
   ]
  },
  {
   "cell_type": "code",
   "execution_count": 10,
   "metadata": {},
   "outputs": [],
   "source": [
    "import torch.nn.functional as F\n",
    "\n",
    "class Network(nn.Module):\n",
    "    def __init__(self):\n",
    "        super().__init__()\n",
    "        # Inputs to hidden layer linear transformation\n",
    "        self.hidden = nn.Linear(784, 256)\n",
    "        # Output layer, 10 units - one for each digit\n",
    "        self.output = nn.Linear(256, 10)\n",
    "        \n",
    "    def forward(self, x):\n",
    "        # Hidden layer with sigmoid activation\n",
    "        x = F.sigmoid(self.hidden(x))\n",
    "        # Output layer with softmax activation\n",
    "        x = F.softmax(self.output(x), dim=1)\n",
    "        \n",
    "        return x"
   ]
  },
  {
   "cell_type": "markdown",
   "metadata": {},
   "source": [
    "### Activation functions\n",
    "\n",
    "So far we've only been looking at the softmax activation, but in general any function can be used as an activation function. The only requirement is that for a network to approximate a non-linear function, the activation functions must be non-linear. Here are a few more examples of common activation functions: Tanh (hyperbolic tangent), and ReLU (rectified linear unit).\n",
    "\n",
    "<img src=\"assets/activation.png\" width=700px>\n",
    "\n",
    "In practice, the ReLU function is used almost exclusively as the activation function for hidden layers."
   ]
  },
  {
   "cell_type": "markdown",
   "metadata": {},
   "source": [
    "### Your Turn to Build a Network\n",
    "\n",
    "<img src=\"assets/mlp_mnist.png\" width=600px>\n",
    "\n",
    "> **Exercise:** Create a network with 784 input units, a hidden layer with 128 units and a ReLU activation, then a hidden layer with 64 units and a ReLU activation, and finally an output layer with a softmax activation as shown above. You can use a ReLU activation with the `nn.ReLU` module or `F.relu` function."
   ]
  },
  {
   "cell_type": "code",
   "execution_count": 11,
   "metadata": {
    "scrolled": true
   },
   "outputs": [
    {
     "data": {
      "text/plain": [
       "NetworkReLU(\n",
       "  (fc1): Linear(in_features=784, out_features=128, bias=True)\n",
       "  (fc2): Linear(in_features=128, out_features=64, bias=True)\n",
       "  (output): Linear(in_features=64, out_features=10, bias=True)\n",
       ")"
      ]
     },
     "execution_count": 11,
     "metadata": {},
     "output_type": "execute_result"
    }
   ],
   "source": [
    "## Your solution here\n",
    "class NetworkReLU(nn.Module):\n",
    "    def __init__(self):\n",
    "        super().__init__()\n",
    "        # Inputs to hidden layer1 linear transformation\n",
    "        self.fc1 = nn.Linear(784, 128)\n",
    "        # Inputs to hidden layer linear transformation\n",
    "        self.fc2 = nn.Linear(128, 64)\n",
    "        # Output layer, 10 units - one for each digit\n",
    "        self.output = nn.Linear(64, 10)\n",
    "        \n",
    "    def forward(self, x):\n",
    "        # Hidden layer1 with sigmoid activation\n",
    "        x = F.relu(self.fc1(x))\n",
    "        # Hidden layer2 with sigmoid activation\n",
    "        x = F.relu(self.fc2(x))\n",
    "        # Output layer with ReLU activation\n",
    "        x = F.softmax(self.output(x), dim=1)\n",
    "        \n",
    "        return x\n",
    "    \n",
    "model = NetworkReLU()\n",
    "model"
   ]
  },
  {
   "cell_type": "markdown",
   "metadata": {},
   "source": [
    "### Initializing weights and biases\n",
    "\n",
    "The weights and such are automatically initialized for you, but it's possible to customize how they are initialized. The weights and biases are tensors attached to the layer you defined, you can get them with `model.fc1.weight` for instance."
   ]
  },
  {
   "cell_type": "code",
   "execution_count": 12,
   "metadata": {},
   "outputs": [
    {
     "name": "stdout",
     "output_type": "stream",
     "text": [
      "Parameter containing:\n",
      "tensor([[ 0.0197,  0.0120,  0.0254,  ..., -0.0089,  0.0084,  0.0169],\n",
      "        [ 0.0086, -0.0099, -0.0357,  ...,  0.0129, -0.0184,  0.0304],\n",
      "        [ 0.0084,  0.0252, -0.0132,  ...,  0.0159, -0.0127, -0.0318],\n",
      "        ...,\n",
      "        [-0.0171, -0.0069,  0.0021,  ...,  0.0164,  0.0087,  0.0232],\n",
      "        [ 0.0273, -0.0162, -0.0153,  ..., -0.0046, -0.0148, -0.0324],\n",
      "        [ 0.0038,  0.0165, -0.0090,  ..., -0.0145, -0.0105, -0.0196]],\n",
      "       requires_grad=True)\n",
      "Parameter containing:\n",
      "tensor([ 0.0166,  0.0318, -0.0282, -0.0025,  0.0056, -0.0239, -0.0034,  0.0321,\n",
      "        -0.0139, -0.0199, -0.0045, -0.0236, -0.0049,  0.0194,  0.0005, -0.0150,\n",
      "        -0.0067, -0.0307, -0.0042,  0.0207,  0.0238,  0.0017,  0.0194,  0.0076,\n",
      "        -0.0328, -0.0347,  0.0118,  0.0197,  0.0313, -0.0005, -0.0173,  0.0072,\n",
      "        -0.0147,  0.0189, -0.0132,  0.0262, -0.0133,  0.0082, -0.0177, -0.0121,\n",
      "         0.0120, -0.0278,  0.0215, -0.0256, -0.0011, -0.0059,  0.0278,  0.0144,\n",
      "        -0.0141, -0.0014,  0.0161, -0.0059,  0.0294,  0.0138, -0.0033, -0.0206,\n",
      "         0.0266, -0.0326, -0.0067, -0.0343, -0.0308,  0.0259,  0.0335, -0.0162,\n",
      "         0.0058, -0.0200, -0.0149,  0.0354, -0.0039,  0.0158,  0.0153, -0.0104,\n",
      "        -0.0284,  0.0143, -0.0024, -0.0336, -0.0031,  0.0144, -0.0132, -0.0353,\n",
      "        -0.0270, -0.0159,  0.0072,  0.0108, -0.0217,  0.0258, -0.0295, -0.0116,\n",
      "        -0.0130, -0.0087, -0.0297,  0.0202,  0.0101,  0.0146,  0.0111,  0.0300,\n",
      "        -0.0333, -0.0162,  0.0130,  0.0156,  0.0250,  0.0338, -0.0223,  0.0001,\n",
      "         0.0009,  0.0204,  0.0188,  0.0071,  0.0305, -0.0255, -0.0201,  0.0097,\n",
      "        -0.0119,  0.0070, -0.0286, -0.0180,  0.0018,  0.0311, -0.0004, -0.0336,\n",
      "         0.0186, -0.0156,  0.0086,  0.0084,  0.0038,  0.0129,  0.0169, -0.0327],\n",
      "       requires_grad=True)\n"
     ]
    }
   ],
   "source": [
    "print(model.fc1.weight)\n",
    "print(model.fc1.bias)"
   ]
  },
  {
   "cell_type": "markdown",
   "metadata": {},
   "source": [
    "For custom initialization, we want to modify these tensors in place. These are actually autograd *Variables*, so we need to get back the actual tensors with `model.fc1.weight.data`. Once we have the tensors, we can fill them with zeros (for biases) or random normal values."
   ]
  },
  {
   "cell_type": "code",
   "execution_count": 13,
   "metadata": {},
   "outputs": [
    {
     "data": {
      "text/plain": [
       "tensor([0., 0., 0., 0., 0., 0., 0., 0., 0., 0., 0., 0., 0., 0., 0., 0., 0., 0.,\n",
       "        0., 0., 0., 0., 0., 0., 0., 0., 0., 0., 0., 0., 0., 0., 0., 0., 0., 0.,\n",
       "        0., 0., 0., 0., 0., 0., 0., 0., 0., 0., 0., 0., 0., 0., 0., 0., 0., 0.,\n",
       "        0., 0., 0., 0., 0., 0., 0., 0., 0., 0., 0., 0., 0., 0., 0., 0., 0., 0.,\n",
       "        0., 0., 0., 0., 0., 0., 0., 0., 0., 0., 0., 0., 0., 0., 0., 0., 0., 0.,\n",
       "        0., 0., 0., 0., 0., 0., 0., 0., 0., 0., 0., 0., 0., 0., 0., 0., 0., 0.,\n",
       "        0., 0., 0., 0., 0., 0., 0., 0., 0., 0., 0., 0., 0., 0., 0., 0., 0., 0.,\n",
       "        0., 0.])"
      ]
     },
     "execution_count": 13,
     "metadata": {},
     "output_type": "execute_result"
    }
   ],
   "source": [
    "# Set biases to all zeros\n",
    "model.fc1.bias.data.fill_(0)"
   ]
  },
  {
   "cell_type": "code",
   "execution_count": 14,
   "metadata": {},
   "outputs": [
    {
     "data": {
      "text/plain": [
       "tensor([[ 0.0149,  0.0075, -0.0065,  ..., -0.0058, -0.0016, -0.0075],\n",
       "        [-0.0068,  0.0126,  0.0037,  ..., -0.0124,  0.0071,  0.0038],\n",
       "        [ 0.0038,  0.0055,  0.0037,  ..., -0.0027, -0.0045, -0.0022],\n",
       "        ...,\n",
       "        [-0.0099, -0.0029, -0.0007,  ..., -0.0013, -0.0193, -0.0142],\n",
       "        [-0.0030, -0.0001,  0.0056,  ...,  0.0047,  0.0022,  0.0029],\n",
       "        [ 0.0061, -0.0047, -0.0072,  ..., -0.0065, -0.0050, -0.0043]])"
      ]
     },
     "execution_count": 14,
     "metadata": {},
     "output_type": "execute_result"
    }
   ],
   "source": [
    "# sample from random normal with standard dev = 0.01\n",
    "model.fc1.weight.data.normal_(std=0.01)"
   ]
  },
  {
   "cell_type": "markdown",
   "metadata": {},
   "source": [
    "### Forward pass\n",
    "\n",
    "Now that we have a network, let's see what happens when we pass in an image."
   ]
  },
  {
   "cell_type": "code",
   "execution_count": 15,
   "metadata": {},
   "outputs": [
    {
     "data": {
      "image/png": "[encoded data removed]",
      "text/plain": [
       "<Figure size 432x648 with 2 Axes>"
      ]
     },
     "metadata": {
      "image/png": {
       "height": 226,
       "width": 423
      },
      "needs_background": "light"
     },
     "output_type": "display_data"
    }
   ],
   "source": [
    "# Grab some data \n",
    "dataiter = iter(trainloader)\n",
    "images, labels = dataiter.next()\n",
    "\n",
    "# Resize images into a 1D vector, new shape is (batch size, color channels, image pixels) \n",
    "images.resize_(64, 1, 784)\n",
    "# or images.resize_(images.shape[0], 1, 784) to automatically get batch size\n",
    "\n",
    "# Forward pass through the network\n",
    "img_idx = 0\n",
    "ps = model.forward(images[img_idx,:])\n",
    "\n",
    "img = images[img_idx]\n",
    "helper.view_classify(img.view(1, 28, 28), ps)"
   ]
  },
  {
   "cell_type": "markdown",
   "metadata": {},
   "source": [
    "As you can see above, our network has basically no idea what this digit is. It's because we haven't trained it yet, all the weights are random!\n",
    "\n",
    "### Using `nn.Sequential`\n",
    "\n",
    "PyTorch provides a convenient way to build networks like this where a tensor is passed sequentially through operations, `nn.Sequential` ([documentation](https://pytorch.org/docs/master/nn.html#torch.nn.Sequential)). Using this to build the equivalent network:"
   ]
  },
  {
   "cell_type": "code",
   "execution_count": 16,
   "metadata": {},
   "outputs": [
    {
     "name": "stdout",
     "output_type": "stream",
     "text": [
      "Sequential(\n",
      "  (0): Linear(in_features=784, out_features=128, bias=True)\n",
      "  (1): ReLU()\n",
      "  (2): Linear(in_features=128, out_features=64, bias=True)\n",
      "  (3): ReLU()\n",
      "  (4): Linear(in_features=64, out_features=10, bias=True)\n",
      "  (5): Softmax()\n",
      ")\n"
     ]
    },
    {
     "data": {
      "image/png": "[encoded data removed]",
      "text/plain": [
       "<Figure size 432x648 with 2 Axes>"
      ]
     },
     "metadata": {
      "image/png": {
       "height": 226,
       "width": 423
      },
      "needs_background": "light"
     },
     "output_type": "display_data"
    }
   ],
   "source": [
    "# Hyperparameters for our network\n",
    "input_size = 784\n",
    "hidden_sizes = [128, 64]\n",
    "output_size = 10\n",
    "\n",
    "# Build a feed-forward network\n",
    "model = nn.Sequential(nn.Linear(input_size, hidden_sizes[0]),\n",
    "                      nn.ReLU(),\n",
    "                      nn.Linear(hidden_sizes[0], hidden_sizes[1]),\n",
    "                      nn.ReLU(),\n",
    "                      nn.Linear(hidden_sizes[1], output_size),\n",
    "                      nn.Softmax(dim=1))\n",
    "print(model)\n",
    "\n",
    "# Forward pass through the network and display output\n",
    "images, labels = next(iter(trainloader))\n",
    "images.resize_(images.shape[0], 1, 784)\n",
    "ps = model.forward(images[0,:])\n",
    "helper.view_classify(images[0].view(1, 28, 28), ps)"
   ]
  },
  {
   "cell_type": "markdown",
   "metadata": {},
   "source": [
    "The operations are availble by passing in the appropriate index. For example, if you want to get first Linear operation and look at the weights, you'd use `model[0]`."
   ]
  },
  {
   "cell_type": "code",
   "execution_count": 17,
   "metadata": {},
   "outputs": [
    {
     "name": "stdout",
     "output_type": "stream",
     "text": [
      "Linear(in_features=784, out_features=128, bias=True)\n"
     ]
    },
    {
     "data": {
      "text/plain": [
       "Parameter containing:\n",
       "tensor([[ 0.0311,  0.0157,  0.0170,  ..., -0.0285, -0.0015, -0.0218],\n",
       "        [-0.0025, -0.0346,  0.0128,  ..., -0.0229,  0.0028, -0.0195],\n",
       "        [ 0.0174,  0.0006,  0.0293,  ..., -0.0268,  0.0066,  0.0105],\n",
       "        ...,\n",
       "        [-0.0164,  0.0065,  0.0338,  ..., -0.0345,  0.0120, -0.0037],\n",
       "        [ 0.0068,  0.0153, -0.0238,  ..., -0.0095, -0.0272, -0.0292],\n",
       "        [-0.0121, -0.0025, -0.0029,  ...,  0.0149, -0.0077,  0.0133]],\n",
       "       requires_grad=True)"
      ]
     },
     "execution_count": 17,
     "metadata": {},
     "output_type": "execute_result"
    }
   ],
   "source": [
    "print(model[0])\n",
    "model[0].weight"
   ]
  },
  {
   "cell_type": "markdown",
   "metadata": {},
   "source": [
    "You can also pass in an `OrderedDict` to name the individual layers and operations, instead of using incremental integers. Note that dictionary keys must be unique, so _each operation must have a different name_."
   ]
  },
  {
   "cell_type": "code",
   "execution_count": 18,
   "metadata": {},
   "outputs": [
    {
     "data": {
      "text/plain": [
       "Sequential(\n",
       "  (fc1): Linear(in_features=784, out_features=128, bias=True)\n",
       "  (relu1): ReLU()\n",
       "  (fc2): Linear(in_features=128, out_features=64, bias=True)\n",
       "  (relu2): ReLU()\n",
       "  (output): Linear(in_features=64, out_features=10, bias=True)\n",
       "  (softmax): Softmax()\n",
       ")"
      ]
     },
     "execution_count": 18,
     "metadata": {},
     "output_type": "execute_result"
    }
   ],
   "source": [
    "from collections import OrderedDict\n",
    "model = nn.Sequential(OrderedDict([\n",
    "                      ('fc1', nn.Linear(input_size, hidden_sizes[0])),\n",
    "                      ('relu1', nn.ReLU()),\n",
    "                      ('fc2', nn.Linear(hidden_sizes[0], hidden_sizes[1])),\n",
    "                      ('relu2', nn.ReLU()),\n",
    "                      ('output', nn.Linear(hidden_sizes[1], output_size)),\n",
    "                      ('softmax', nn.Softmax(dim=1))]))\n",
    "model"
   ]
  },
  {
   "cell_type": "markdown",
   "metadata": {},
   "source": [
    "Now you can access layers either by integer or the name"
   ]
  },
  {
   "cell_type": "code",
   "execution_count": 19,
   "metadata": {},
   "outputs": [
    {
     "name": "stdout",
     "output_type": "stream",
     "text": [
      "Linear(in_features=784, out_features=128, bias=True)\n",
      "Linear(in_features=784, out_features=128, bias=True)\n"
     ]
    }
   ],
   "source": [
    "print(model[0])\n",
    "print(model.fc1)"
   ]
  },
  {
   "cell_type": "markdown",
   "metadata": {},
   "source": [
    "In the next notebook, we'll see how we can train a neural network to accuractly predict the numbers appearing in the MNIST images."
   ]
  }
 ],
 "metadata": {
  "kernelspec": {
   "display_name": "Python 3",
   "language": "python",
   "name": "python3"
  },
  "language_info": {
   "codemirror_mode": {
    "name": "ipython",
    "version": 3
   },
   "file_extension": ".py",
   "mimetype": "text/x-python",
   "name": "python",
   "nbconvert_exporter": "python",
   "pygments_lexer": "ipython3",
   "version": "3.6.6"
  }
 },
 "nbformat": 4,
 "nbformat_minor": 2
}

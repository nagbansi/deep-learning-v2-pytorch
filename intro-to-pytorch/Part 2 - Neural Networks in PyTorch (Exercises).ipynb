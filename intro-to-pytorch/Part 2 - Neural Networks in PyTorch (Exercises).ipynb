{
 "cells": [
  {
   "cell_type": "markdown",
   "metadata": {},
   "source": [
    "# Neural networks with PyTorch\n",
    "\n",
    "Deep learning networks tend to be massive with dozens or hundreds of layers, that's where the term \"deep\" comes from. You can build one of these deep networks using only weight matrices as we did in the previous notebook, but in general it's very cumbersome and difficult to implement. PyTorch has a nice module `nn` that provides a nice way to efficiently build large neural networks."
   ]
  },
  {
   "cell_type": "code",
   "execution_count": 6,
   "metadata": {},
   "outputs": [],
   "source": [
    "# Import necessary packages\n",
    "\n",
    "%matplotlib inline\n",
    "%config InlineBackend.figure_format = 'retina'\n",
    "\n",
    "import numpy as np\n",
    "import torch\n",
    "\n",
    "import helper\n",
    "\n",
    "import matplotlib.pyplot as plt"
   ]
  },
  {
   "cell_type": "markdown",
   "metadata": {},
   "source": [
    "\n",
    "Now we're going to build a larger network that can solve a (formerly) difficult problem, identifying text in an image. Here we'll use the MNIST dataset which consists of greyscale handwritten digits. Each image is 28x28 pixels, you can see a sample below\n",
    "\n",
    "<img src='assets/mnist.png'>\n",
    "\n",
    "Our goal is to build a neural network that can take one of these images and predict the digit in the image.\n",
    "\n",
    "First up, we need to get our dataset. This is provided through the `torchvision` package. The code below will download the MNIST dataset, then create training and test datasets for us. Don't worry too much about the details here, you'll learn more about this later."
   ]
  },
  {
   "cell_type": "code",
   "execution_count": 7,
   "metadata": {},
   "outputs": [],
   "source": [
    "### Run this cell\n",
    "\n",
    "from torchvision import datasets, transforms\n",
    "\n",
    "# Define a transform to normalize the data\n",
    "transform = transforms.Compose([transforms.ToTensor(),\n",
    "                              transforms.Normalize((0.5, 0.5, 0.5), (0.5, 0.5, 0.5)),\n",
    "                              ])\n",
    "\n",
    "# Download and load the training data\n",
    "trainset = datasets.MNIST('MNIST_data/', download=True, train=True, transform=transform)\n",
    "trainloader = torch.utils.data.DataLoader(trainset, batch_size=64, shuffle=True)"
   ]
  },
  {
   "cell_type": "markdown",
   "metadata": {},
   "source": [
    "We have the training data loaded into `trainloader` and we make that an iterator with `iter(trainloader)`. Later, we'll use this to loop through the dataset for training, like\n",
    "\n",
    "```python\n",
    "for image, label in trainloader:\n",
    "    ## do things with images and labels\n",
    "```\n",
    "\n",
    "You'll notice I created the `trainloader` with a batch size of 64, and `shuffle=True`. The batch size is the number of images we get in one iteration from the data loader and pass through our network, often called a *batch*. And `shuffle=True` tells it to shuffle the dataset every time we start going through the data loader again. But here I'm just grabbing the first batch so we can check out the data. We can see below that `images` is just a tensor with size `(64, 1, 28, 28)`. So, 64 images per batch, 1 color channel, and 28x28 images."
   ]
  },
  {
   "cell_type": "code",
   "execution_count": 8,
   "metadata": {},
   "outputs": [
    {
     "name": "stdout",
     "output_type": "stream",
     "text": [
      "<class 'torch.Tensor'>\n",
      "torch.Size([64, 1, 28, 28])\n",
      "torch.Size([64])\n"
     ]
    }
   ],
   "source": [
    "dataiter = iter(trainloader)\n",
    "images, labels = dataiter.next()\n",
    "print(type(images))\n",
    "print(images.shape)\n",
    "print(labels.shape)"
   ]
  },
  {
   "cell_type": "markdown",
   "metadata": {},
   "source": [
    "This is what one of the images looks like. "
   ]
  },
  {
   "cell_type": "code",
   "execution_count": 12,
   "metadata": {},
   "outputs": [
    {
     "data": {
      "image/png": "[encoded data removed]",
      "text/plain": [
       "<Figure size 432x288 with 1 Axes>"
      ]
     },
     "metadata": {
      "image/png": {
       "height": 250,
       "width": 253
      },
      "needs_background": "light"
     },
     "output_type": "display_data"
    }
   ],
   "source": [
    "plt.imshow(images[1].numpy().squeeze(), cmap='Greys_r');"
   ]
  },
  {
   "cell_type": "markdown",
   "metadata": {},
   "source": [
    "First, let's try to build a simple network for this dataset using weight matrices and matrix multiplications. Then, we'll see how to do it using PyTorch's `nn` module which provides a much more convenient and powerful method for defining network architectures.\n",
    "\n",
    "The networks you've seen so far are called *fully-connected* or *dense* networks. Each unit in one layer is connected to each unit in the next layer. In fully-connected networks, the input to each layer must be a one-dimensional vector (which can be stacked into a 2D tensor as a batch of multiple examples). However, our images are 28x28 2D tensors, so we need to convert them into 1D vectors. Thinking about sizes, we need to convert the batch of images with shape `(64, 1, 28, 28)` to a have a shape of `(64, 784)`, 784 is 28 times 28. This is typically called *flattening*, we flattened the 2D images into 1D vectors.\n",
    "\n",
    "Previously you built a network with one output unit. Here we need 10 output units, one for each digit. We want our network to predict the digit shown in an image, so what we'll do is calculate probabilities that the image is of any one digit or class. This ends up being a discrete probability distribution over the classes (digits) that tells us the most likely class for the image. That means we need 10 output units for the 10 classes (digits). We'll see how to convert the network output into a probability distribution next.\n",
    "\n",
    "> **Exercise:** Flatten the batch of images `images`. Then build a multi-layer network with 784 input units, 256 hidden units, and 10 output units using random tensors for the weights and biases. For now, use a sigmoid activation for the hidden layer. Leave the output layer without an activation, we'll add one that gives us a probability distribution next."
   ]
  },
  {
   "cell_type": "code",
   "execution_count": 15,
   "metadata": {},
   "outputs": [],
   "source": [
    "## Your solution\n",
    "\n",
    "# output of your network, should have shape (64,10)\n",
    "def activation(x):\n",
    "    return 1/(1+torch.exp(-x))\n",
    "\n",
    "#Flatten the input images\n",
    "inputs = images.view(images.shape[0], -1)\n",
    "\n",
    "#create parameters\n",
    "w1 = torch.randn(784, 256)\n",
    "b1 = torch.randn(256)\n",
    "\n",
    "w2 = torch.randn(256, 10)\n",
    "b2 = torch.randn(10)\n",
    "\n",
    "h = activation(torch.mm(inputs, w1) + b1)\n",
    "out = torch.mm(h, w2) + b2"
   ]
  },
  {
   "cell_type": "markdown",
   "metadata": {},
   "source": [
    "Now we have 10 outputs for our network. We want to pass in an image to our network and get out a probability distribution over the classes that tells us the likely class(es) the image belongs to. Something that looks like this:\n",
    "<img src='assets/image_distribution.png' width=500px>\n",
    "\n",
    "Here we see that the probability for each class is roughly the same. This is representing an untrained network, it hasn't seen any data yet so it just returns a uniform distribution with equal probabilities for each class.\n",
    "\n",
    "To calculate this probability distribution, we often use the [**softmax** function](https://en.wikipedia.org/wiki/Softmax_function). Mathematically this looks like\n",
    "\n",
    "$$\n",
    "\\Large \\sigma(x_i) = \\cfrac{e^{x_i}}{\\sum_k^K{e^{x_k}}}\n",
    "$$\n",
    "\n",
    "What this does is squish each input $x_i$ between 0 and 1 and normalizes the values to give you a proper probability distribution where the probabilites sum up to one.\n",
    "\n",
    "> **Exercise:** Implement a function `softmax` that performs the softmax calculation and returns probability distributions for each example in the batch. Note that you'll need to pay attention to the shapes when doing this. If you have a tensor `a` with shape `(64, 10)` and a tensor `b` with shape `(64,)`, doing `a/b` will give you an error because PyTorch will try to do the division across the columns (called broadcasting) but you'll get a size mismatch. The way to think about this is for each of the 64 examples, you only want to divide by one value, the sum in the denominator. So you need `b` to have a shape of `(64, 1)`. This way PyTorch will divide the 10 values in each row of `a` by the one value in each row of `b`. Pay attention to how you take the sum as well. You'll need to define the `dim` keyword in `torch.sum`. Setting `dim=0` takes the sum across the rows while `dim=1` takes the sum across the columns."
   ]
  },
  {
   "cell_type": "code",
   "execution_count": 18,
   "metadata": {},
   "outputs": [
    {
     "name": "stdout",
     "output_type": "stream",
     "text": [
      "torch.Size([64, 10])\n",
      "tensor([1.0000, 1.0000, 1.0000, 1.0000, 1.0000, 1.0000, 1.0000, 1.0000, 1.0000,\n",
      "        1.0000, 1.0000, 1.0000, 1.0000, 1.0000, 1.0000, 1.0000, 1.0000, 1.0000,\n",
      "        1.0000, 1.0000, 1.0000, 1.0000, 1.0000, 1.0000, 1.0000, 1.0000, 1.0000,\n",
      "        1.0000, 1.0000, 1.0000, 1.0000, 1.0000, 1.0000, 1.0000, 1.0000, 1.0000,\n",
      "        1.0000, 1.0000, 1.0000, 1.0000, 1.0000, 1.0000, 1.0000, 1.0000, 1.0000,\n",
      "        1.0000, 1.0000, 1.0000, 1.0000, 1.0000, 1.0000, 1.0000, 1.0000, 1.0000,\n",
      "        1.0000, 1.0000, 1.0000, 1.0000, 1.0000, 1.0000, 1.0000, 1.0000, 1.0000,\n",
      "        1.0000])\n",
      "tensor([[5.4168e-02, 1.2488e-10, 1.6204e-04, 6.4466e-01, 1.1805e-01, 5.2938e-05,\n",
      "         2.9425e-13, 4.5561e-07, 1.8291e-01, 8.9217e-14],\n",
      "        [9.9959e-01, 7.4058e-13, 4.4924e-11, 1.7871e-08, 1.3298e-05, 1.4280e-04,\n",
      "         9.5252e-20, 4.6704e-06, 2.5380e-04, 2.2757e-09],\n",
      "        [1.0375e-03, 3.5151e-11, 9.3592e-01, 3.0828e-06, 2.8891e-07, 4.4180e-02,\n",
      "         6.2176e-15, 1.5860e-02, 2.9956e-03, 1.5706e-14],\n",
      "        [4.1757e-01, 2.4803e-09, 5.3126e-09, 3.5272e-01, 3.9080e-06, 2.2956e-01,\n",
      "         9.5223e-08, 4.7033e-05, 1.0403e-04, 1.8597e-10],\n",
      "        [2.6909e-01, 3.6608e-09, 4.3869e-04, 1.5070e-03, 1.4037e-06, 3.0899e-05,\n",
      "         4.6711e-17, 1.5641e-03, 7.2736e-01, 1.4857e-13],\n",
      "        [2.1945e-06, 5.0962e-13, 1.1633e-06, 1.0992e-03, 1.0489e-07, 9.7154e-01,\n",
      "         1.3925e-14, 3.1420e-04, 2.7039e-02, 4.6759e-08],\n",
      "        [6.2005e-02, 4.3171e-09, 4.1344e-07, 3.7592e-06, 1.3153e-06, 9.3685e-01,\n",
      "         3.2147e-15, 1.0832e-06, 1.1398e-03, 9.0265e-12],\n",
      "        [9.5726e-01, 1.6532e-12, 9.9681e-04, 6.4568e-03, 7.7072e-05, 7.7519e-04,\n",
      "         5.7126e-16, 7.8329e-04, 3.3652e-02, 1.4171e-14],\n",
      "        [9.9396e-01, 5.8561e-15, 2.3599e-09, 1.2179e-06, 2.5603e-09, 6.0356e-03,\n",
      "         5.2150e-15, 7.2437e-11, 3.1516e-06, 2.7076e-13],\n",
      "        [8.0378e-01, 7.4635e-08, 4.8494e-10, 2.1179e-04, 1.0972e-08, 1.0160e-04,\n",
      "         1.8394e-18, 1.7354e-05, 1.9589e-01, 6.7147e-18],\n",
      "        [9.9361e-01, 2.0758e-14, 1.1932e-09, 2.0248e-06, 5.1735e-11, 2.4723e-05,\n",
      "         1.2236e-19, 1.8966e-07, 6.3638e-03, 1.0049e-12],\n",
      "        [9.9810e-01, 1.2495e-11, 5.2338e-07, 1.3602e-03, 3.7424e-04, 3.1334e-05,\n",
      "         3.2259e-14, 9.1165e-07, 1.3048e-04, 1.8521e-11],\n",
      "        [7.1005e-01, 7.8929e-08, 6.1114e-07, 6.9390e-07, 9.0092e-06, 8.6227e-02,\n",
      "         1.4950e-15, 3.5839e-06, 2.0371e-01, 8.7593e-11],\n",
      "        [7.6076e-04, 1.0532e-09, 1.2665e-04, 1.8222e-01, 1.0136e-04, 6.5119e-01,\n",
      "         4.7269e-10, 9.8087e-04, 1.6463e-01, 1.5027e-10],\n",
      "        [9.8971e-01, 8.8176e-12, 7.0173e-07, 3.5368e-05, 1.5127e-09, 9.8117e-03,\n",
      "         6.6656e-18, 8.9281e-08, 4.3886e-04, 1.5905e-13],\n",
      "        [6.3360e-01, 5.0247e-10, 9.7337e-09, 7.8146e-05, 3.5759e-03, 9.7416e-05,\n",
      "         1.2625e-15, 3.0922e-04, 3.6234e-01, 4.1909e-10],\n",
      "        [9.5825e-01, 1.0720e-10, 4.3418e-07, 6.2294e-07, 3.8585e-09, 4.1460e-02,\n",
      "         1.1563e-14, 8.6774e-09, 2.8659e-04, 7.1881e-12],\n",
      "        [9.2041e-01, 5.1576e-14, 2.5384e-05, 3.5346e-05, 6.3805e-10, 9.9519e-05,\n",
      "         7.0495e-18, 1.4795e-04, 7.9277e-02, 4.9680e-13],\n",
      "        [2.0838e-01, 2.5175e-09, 7.9001e-02, 1.2807e-05, 6.1000e-06, 3.8900e-01,\n",
      "         4.6370e-14, 1.5277e-01, 1.7083e-01, 9.0208e-12],\n",
      "        [9.9592e-01, 6.6448e-14, 1.2645e-05, 1.2505e-06, 3.6575e-03, 2.2095e-07,\n",
      "         2.0197e-18, 4.0467e-04, 1.6343e-06, 3.4978e-13],\n",
      "        [1.7266e-04, 1.9695e-09, 6.8114e-04, 9.8099e-01, 1.5511e-02, 5.0163e-05,\n",
      "         4.4425e-14, 6.2332e-05, 2.5304e-03, 1.1512e-11],\n",
      "        [1.5566e-01, 1.3913e-07, 3.2562e-05, 4.4189e-05, 1.7549e-08, 8.4426e-01,\n",
      "         7.0022e-21, 7.8827e-06, 3.1006e-07, 1.7344e-13],\n",
      "        [9.9996e-01, 7.4427e-14, 8.5070e-09, 4.0352e-05, 3.4728e-11, 5.8630e-08,\n",
      "         2.8788e-17, 6.1884e-09, 3.1893e-09, 3.0078e-16],\n",
      "        [1.6945e-01, 5.8769e-15, 3.2545e-09, 1.8552e-09, 8.9261e-09, 5.0255e-05,\n",
      "         1.0190e-19, 3.6867e-06, 8.3050e-01, 1.0817e-15],\n",
      "        [8.5214e-01, 2.5031e-10, 5.6933e-06, 1.3887e-01, 6.5501e-10, 1.4553e-05,\n",
      "         1.1736e-14, 2.6347e-06, 8.9684e-03, 2.3482e-09],\n",
      "        [9.9994e-01, 8.8454e-13, 1.5828e-07, 2.0485e-08, 4.8707e-06, 4.8102e-05,\n",
      "         4.2630e-17, 1.7395e-06, 5.2336e-06, 4.0316e-14],\n",
      "        [7.8318e-01, 2.4037e-07, 4.9498e-06, 1.8041e-02, 1.4323e-05, 2.4067e-04,\n",
      "         1.1183e-09, 1.3839e-02, 1.8468e-01, 1.2029e-13],\n",
      "        [1.0000e+00, 3.0046e-18, 1.6180e-08, 3.6043e-09, 4.4994e-07, 4.9432e-09,\n",
      "         8.7751e-20, 1.7080e-09, 1.1593e-06, 5.9709e-15],\n",
      "        [1.0000e+00, 4.9156e-18, 5.8303e-10, 3.8523e-11, 7.4150e-14, 1.0740e-07,\n",
      "         1.6781e-21, 2.5319e-08, 4.2108e-06, 3.0874e-19],\n",
      "        [9.9919e-01, 5.2637e-13, 9.2277e-09, 2.3938e-05, 1.0249e-09, 6.9743e-04,\n",
      "         1.0262e-18, 1.7636e-06, 8.5964e-05, 3.4274e-17],\n",
      "        [1.0049e-01, 2.8984e-11, 1.3933e-04, 5.2276e-08, 1.4880e-12, 4.3493e-05,\n",
      "         1.5769e-17, 4.0864e-05, 8.9929e-01, 4.3077e-15],\n",
      "        [9.7102e-01, 6.7158e-13, 2.5348e-02, 9.4742e-08, 1.9693e-05, 3.4336e-03,\n",
      "         2.0355e-15, 7.4978e-05, 1.0385e-04, 9.4415e-12],\n",
      "        [8.2200e-01, 5.9233e-13, 5.6256e-07, 1.7800e-01, 2.9907e-07, 2.2873e-06,\n",
      "         1.2013e-14, 3.7799e-10, 4.4583e-06, 6.0149e-12],\n",
      "        [1.5023e-01, 3.4155e-12, 1.0983e-11, 3.0267e-08, 5.9981e-07, 8.4767e-01,\n",
      "         1.8277e-15, 7.2697e-08, 2.1020e-03, 1.4482e-10],\n",
      "        [9.9602e-01, 1.0797e-13, 4.4172e-10, 1.0087e-05, 2.6715e-10, 5.0958e-04,\n",
      "         9.4836e-17, 2.6987e-07, 3.4594e-03, 1.4371e-15],\n",
      "        [1.0097e-04, 2.5475e-05, 6.0409e-05, 1.7179e-06, 2.8371e-03, 5.8301e-02,\n",
      "         1.1351e-12, 9.3859e-01, 7.9444e-05, 3.3887e-08],\n",
      "        [1.5842e-01, 3.5504e-11, 1.2207e-06, 1.0133e-04, 2.6493e-10, 4.4169e-04,\n",
      "         1.0311e-14, 7.7085e-01, 7.0193e-02, 3.1738e-11],\n",
      "        [7.4419e-01, 8.6967e-11, 5.0433e-08, 3.2708e-05, 5.0214e-06, 2.0292e-05,\n",
      "         2.5724e-13, 5.7039e-05, 2.5570e-01, 1.0328e-12],\n",
      "        [9.9892e-01, 2.6009e-13, 1.5811e-07, 1.7026e-04, 1.6929e-06, 2.0109e-09,\n",
      "         1.2355e-15, 5.7014e-06, 9.0585e-04, 1.4926e-15],\n",
      "        [5.7898e-02, 4.2261e-12, 1.3056e-09, 1.2816e-01, 4.3220e-01, 2.3982e-05,\n",
      "         1.1856e-16, 9.1726e-07, 3.8171e-01, 3.3469e-11],\n",
      "        [6.8920e-06, 2.2169e-07, 5.3501e-07, 1.0952e-05, 1.4341e-08, 4.7584e-06,\n",
      "         4.0859e-18, 4.8618e-06, 9.9997e-01, 1.4423e-10],\n",
      "        [9.3337e-02, 1.3898e-12, 2.7183e-06, 2.2549e-08, 2.2513e-08, 1.0742e-03,\n",
      "         4.9757e-18, 9.0262e-01, 2.9703e-03, 2.1356e-09],\n",
      "        [6.1499e-02, 3.5476e-09, 1.4224e-05, 1.8831e-04, 1.6672e-07, 5.1636e-06,\n",
      "         2.6110e-14, 7.1454e-01, 2.2375e-01, 7.2946e-13],\n",
      "        [2.1617e-02, 1.2360e-07, 3.6759e-05, 1.3085e-02, 1.0133e-02, 9.5480e-01,\n",
      "         1.0759e-09, 3.2307e-04, 5.8993e-06, 1.9691e-11],\n",
      "        [9.2943e-01, 1.7538e-10, 7.2660e-07, 3.1549e-03, 1.0620e-08, 4.8602e-03,\n",
      "         8.7238e-15, 5.9510e-02, 3.0489e-03, 6.5028e-13],\n",
      "        [9.9987e-01, 5.4624e-17, 1.2067e-08, 5.0558e-10, 2.2327e-12, 1.3751e-08,\n",
      "         1.3614e-19, 6.0120e-09, 1.2912e-04, 7.0818e-19],\n",
      "        [8.0687e-06, 1.2058e-13, 1.7106e-07, 4.4745e-08, 1.3702e-09, 2.5180e-05,\n",
      "         4.9603e-15, 1.0640e-03, 9.9890e-01, 6.2596e-13],\n",
      "        [9.9999e-01, 1.0425e-09, 7.7625e-06, 9.5456e-08, 3.8891e-13, 1.3719e-07,\n",
      "         3.9955e-18, 8.7408e-12, 4.3348e-08, 8.8690e-21],\n",
      "        [2.4113e-01, 2.5496e-12, 9.8925e-07, 4.9170e-03, 1.4507e-07, 2.3122e-02,\n",
      "         5.1471e-16, 3.8417e-05, 7.3079e-01, 1.1169e-14],\n",
      "        [8.5098e-01, 8.4709e-11, 4.9055e-04, 8.1918e-04, 4.6037e-04, 1.4724e-01,\n",
      "         1.9792e-12, 4.9447e-07, 1.2350e-05, 2.6741e-11],\n",
      "        [7.5768e-06, 1.0054e-11, 3.0854e-07, 1.0195e-06, 1.0766e-04, 1.9139e-01,\n",
      "         2.0506e-12, 5.4456e-04, 8.0795e-01, 2.7936e-09],\n",
      "        [1.1863e-01, 9.8382e-11, 9.4254e-10, 9.8019e-05, 8.8514e-05, 5.6684e-03,\n",
      "         4.3188e-17, 4.2133e-06, 8.7551e-01, 2.0139e-08],\n",
      "        [3.0162e-04, 3.7241e-12, 1.8284e-05, 6.8107e-06, 1.2394e-07, 4.1699e-06,\n",
      "         1.4007e-17, 6.8110e-05, 9.9960e-01, 2.1123e-14],\n",
      "        [2.4783e-01, 5.3837e-08, 1.8775e-08, 1.9288e-05, 2.9572e-05, 1.0130e-05,\n",
      "         9.9740e-12, 6.1210e-06, 7.5210e-01, 6.7737e-14],\n",
      "        [9.9952e-01, 1.1937e-13, 7.5639e-05, 4.0146e-07, 7.1930e-09, 1.0285e-04,\n",
      "         6.1895e-17, 1.7047e-04, 1.3456e-04, 2.4975e-12],\n",
      "        [9.9849e-01, 5.5445e-11, 7.8713e-09, 1.3139e-03, 3.4755e-05, 6.6835e-08,\n",
      "         4.1547e-14, 3.8712e-05, 1.1850e-04, 1.8609e-12],\n",
      "        [8.2488e-02, 2.3469e-11, 1.4285e-05, 6.1902e-07, 8.9424e-08, 1.8967e-06,\n",
      "         5.7752e-18, 2.1008e-05, 9.1747e-01, 2.3232e-10],\n",
      "        [9.5130e-01, 4.2919e-12, 1.6602e-07, 1.7018e-04, 1.5802e-02, 4.3128e-04,\n",
      "         8.4547e-15, 1.5240e-03, 3.0777e-02, 1.3673e-12],\n",
      "        [8.5534e-03, 4.1485e-08, 3.1580e-03, 4.8915e-01, 1.3326e-05, 7.5424e-03,\n",
      "         6.3465e-12, 4.4065e-01, 5.0934e-02, 4.1956e-13],\n",
      "        [9.8856e-01, 2.4453e-07, 6.7978e-03, 5.6465e-06, 1.4413e-07, 4.4425e-03,\n",
      "         2.6110e-18, 1.8886e-04, 6.5355e-10, 2.3764e-10],\n",
      "        [9.8383e-01, 6.2015e-08, 1.4336e-03, 3.1934e-09, 1.4918e-03, 1.3156e-02,\n",
      "         2.2431e-11, 1.6394e-06, 8.8227e-05, 2.3910e-14],\n",
      "        [1.4323e-01, 1.6745e-11, 2.8961e-04, 1.9813e-04, 1.2840e-04, 2.4403e-02,\n",
      "         5.2556e-17, 3.4419e-04, 8.3141e-01, 1.3580e-12],\n",
      "        [6.1592e-01, 3.0406e-08, 8.5156e-03, 4.9971e-08, 6.6235e-02, 1.9979e-05,\n",
      "         1.0486e-13, 3.4343e-03, 3.0588e-01, 3.3275e-14],\n",
      "        [3.1360e-01, 7.3419e-10, 1.8252e-06, 2.0455e-04, 8.5468e-02, 1.1434e-04,\n",
      "         4.3629e-10, 1.9507e-06, 6.0061e-01, 4.0455e-12]])\n"
     ]
    }
   ],
   "source": [
    "def softmax(x):\n",
    "    ## TODO: Implement the softmax function here\n",
    "    return torch.exp(x)/torch.sum(torch.exp(x), dim = 1).view(-1,1)\n",
    "\n",
    "# Here, out should be the output of the network in the previous excercise with shape (64,10)\n",
    "probabilities = softmax(out)\n",
    "\n",
    "# Does it have the right shape? Should be (64, 10)\n",
    "print(probabilities.shape)\n",
    "# Does it sum to 1?\n",
    "print(probabilities.sum(dim=1))\n",
    "print(probabilities)"
   ]
  },
  {
   "cell_type": "markdown",
   "metadata": {},
   "source": [
    "## Building networks with PyTorch\n",
    "\n",
    "PyTorch provides a module `nn` that makes building networks much simpler. Here I'll show you how to build the same one as above with 784 inputs, 256 hidden units, 10 output units and a softmax output."
   ]
  },
  {
   "cell_type": "code",
   "execution_count": 19,
   "metadata": {},
   "outputs": [],
   "source": [
    "from torch import nn"
   ]
  },
  {
   "cell_type": "code",
   "execution_count": 20,
   "metadata": {},
   "outputs": [],
   "source": [
    "class Network(nn.Module):\n",
    "    def __init__(self):\n",
    "        super().__init__()\n",
    "        \n",
    "        # Inputs to hidden layer linear transformation\n",
    "        self.hidden = nn.Linear(784, 256)\n",
    "        # Output layer, 10 units - one for each digit\n",
    "        self.output = nn.Linear(256, 10)\n",
    "        \n",
    "        # Define sigmoid activation and softmax output \n",
    "        self.sigmoid = nn.Sigmoid()\n",
    "        self.softmax = nn.Softmax(dim=1)\n",
    "        \n",
    "    def forward(self, x):\n",
    "        # Pass the input tensor through each of our operations\n",
    "        x = self.hidden(x)\n",
    "        x = self.sigmoid(x)\n",
    "        x = self.output(x)\n",
    "        x = self.softmax(x)\n",
    "        \n",
    "        return x"
   ]
  },
  {
   "cell_type": "markdown",
   "metadata": {},
   "source": [
    "Let's go through this bit by bit.\n",
    "\n",
    "```python\n",
    "class Network(nn.Module):\n",
    "```\n",
    "\n",
    "Here we're inheriting from `nn.Module`. Combined with `super().__init__()` this creates a class that tracks the architecture and provides a lot of useful methods and attributes. It is mandatory to inherit from `nn.Module` when you're creating a class for your network. The name of the class itself can be anything.\n",
    "\n",
    "```python\n",
    "self.hidden = nn.Linear(784, 256)\n",
    "```\n",
    "\n",
    "This line creates a module for a linear transformation, $x\\mathbf{W} + b$, with 784 inputs and 256 outputs and assigns it to `self.hidden`. The module automatically creates the weight and bias tensors which we'll use in the `forward` method. You can access the weight and bias tensors once the network once it's create at `net.hidden.weight` and `net.hidden.bias`.\n",
    "\n",
    "```python\n",
    "self.output = nn.Linear(256, 10)\n",
    "```\n",
    "\n",
    "Similarly, this creates another linear transformation with 256 inputs and 10 outputs.\n",
    "\n",
    "```python\n",
    "self.sigmoid = nn.Sigmoid()\n",
    "self.softmax = nn.Softmax(dim=1)\n",
    "```\n",
    "\n",
    "Here I defined operations for the sigmoid activation and softmax output. Setting `dim=1` in `nn.Softmax(dim=1)` calculates softmax across the columns.\n",
    "\n",
    "```python\n",
    "def forward(self, x):\n",
    "```\n",
    "\n",
    "PyTorch networks created with `nn.Module` must have a `forward` method defined. It takes in a tensor `x` and passes it through the operations you defined in the `__init__` method.\n",
    "\n",
    "```python\n",
    "x = self.hidden(x)\n",
    "x = self.sigmoid(x)\n",
    "x = self.output(x)\n",
    "x = self.softmax(x)\n",
    "```\n",
    "\n",
    "Here the input tensor `x` is passed through each operation a reassigned to `x`. We can see that the input tensor goes through the hidden layer, then a sigmoid function, then the output layer, and finally the softmax function. It doesn't matter what you name the variables here, as long as the inputs and outputs of the operations match the network architecture you want to build. The order in which you define things in the `__init__` method doesn't matter, but you'll need to sequence the operations correctly in the `forward` method.\n",
    "\n",
    "Now we can create a `Network` object."
   ]
  },
  {
   "cell_type": "code",
   "execution_count": 21,
   "metadata": {},
   "outputs": [
    {
     "data": {
      "text/plain": [
       "Network(\n",
       "  (hidden): Linear(in_features=784, out_features=256, bias=True)\n",
       "  (output): Linear(in_features=256, out_features=10, bias=True)\n",
       "  (sigmoid): Sigmoid()\n",
       "  (softmax): Softmax()\n",
       ")"
      ]
     },
     "execution_count": 21,
     "metadata": {},
     "output_type": "execute_result"
    }
   ],
   "source": [
    "# Create the network and look at it's text representation\n",
    "model = Network()\n",
    "model"
   ]
  },
  {
   "cell_type": "markdown",
   "metadata": {},
   "source": [
    "You can define the network somewhat more concisely and clearly using the `torch.nn.functional` module. This is the most common way you'll see networks defined as many operations are simple element-wise functions. We normally import this module as `F`, `import torch.nn.functional as F`."
   ]
  },
  {
   "cell_type": "code",
   "execution_count": 22,
   "metadata": {},
   "outputs": [],
   "source": [
    "import torch.nn.functional as F\n",
    "\n",
    "class Network(nn.Module):\n",
    "    def __init__(self):\n",
    "        super().__init__()\n",
    "        # Inputs to hidden layer linear transformation\n",
    "        self.hidden = nn.Linear(784, 256)\n",
    "        # Output layer, 10 units - one for each digit\n",
    "        self.output = nn.Linear(256, 10)\n",
    "        \n",
    "    def forward(self, x):\n",
    "        # Hidden layer with sigmoid activation\n",
    "        x = F.sigmoid(self.hidden(x))\n",
    "        # Output layer with softmax activation\n",
    "        x = F.softmax(self.output(x), dim=1)\n",
    "        \n",
    "        return x"
   ]
  },
  {
   "cell_type": "markdown",
   "metadata": {},
   "source": [
    "### Activation functions\n",
    "\n",
    "So far we've only been looking at the softmax activation, but in general any function can be used as an activation function. The only requirement is that for a network to approximate a non-linear function, the activation functions must be non-linear. Here are a few more examples of common activation functions: Tanh (hyperbolic tangent), and ReLU (rectified linear unit).\n",
    "\n",
    "<img src=\"assets/activation.png\" width=700px>\n",
    "\n",
    "In practice, the ReLU function is used almost exclusively as the activation function for hidden layers."
   ]
  },
  {
   "cell_type": "markdown",
   "metadata": {},
   "source": [
    "### Your Turn to Build a Network\n",
    "\n",
    "<img src=\"assets/mlp_mnist.png\" width=600px>\n",
    "\n",
    "> **Exercise:** Create a network with 784 input units, a hidden layer with 128 units and a ReLU activation, then a hidden layer with 64 units and a ReLU activation, and finally an output layer with a softmax activation as shown above. You can use a ReLU activation with the `nn.ReLU` module or `F.relu` function."
   ]
  },
  {
   "cell_type": "code",
   "execution_count": 33,
   "metadata": {
    "scrolled": true
   },
   "outputs": [
    {
     "data": {
      "text/plain": [
       "NetworkReLU(\n",
       "  (fc1): Linear(in_features=784, out_features=128, bias=True)\n",
       "  (fc2): Linear(in_features=128, out_features=64, bias=True)\n",
       "  (output): Linear(in_features=64, out_features=10, bias=True)\n",
       ")"
      ]
     },
     "execution_count": 33,
     "metadata": {},
     "output_type": "execute_result"
    }
   ],
   "source": [
    "## Your solution here\n",
    "class NetworkReLU(nn.Module):\n",
    "    def __init__(self):\n",
    "        super().__init__()\n",
    "        # Inputs to hidden layer1 linear transformation\n",
    "        self.fc1 = nn.Linear(784, 128)\n",
    "        # Inputs to hidden layer linear transformation\n",
    "        self.fc2 = nn.Linear(128, 64)\n",
    "        # Output layer, 10 units - one for each digit\n",
    "        self.output = nn.Linear(64, 10)\n",
    "        \n",
    "    def forward(self, x):\n",
    "        # Hidden layer1 with sigmoid activation\n",
    "        x = F.relu(self.fc1(x))\n",
    "        # Hidden layer2 with sigmoid activation\n",
    "        x = F.relu(self.fc2(x))\n",
    "        # Output layer with ReLU activation\n",
    "        x = F.softmax(self.output(x), dim=1)\n",
    "        \n",
    "        return x\n",
    "    \n",
    "model = NetworkReLU()\n",
    "model"
   ]
  },
  {
   "cell_type": "markdown",
   "metadata": {},
   "source": [
    "### Initializing weights and biases\n",
    "\n",
    "The weights and such are automatically initialized for you, but it's possible to customize how they are initialized. The weights and biases are tensors attached to the layer you defined, you can get them with `model.fc1.weight` for instance."
   ]
  },
  {
   "cell_type": "code",
   "execution_count": 34,
   "metadata": {},
   "outputs": [
    {
     "name": "stdout",
     "output_type": "stream",
     "text": [
      "Parameter containing:\n",
      "tensor([[-0.0091, -0.0270,  0.0265,  ..., -0.0300, -0.0024,  0.0340],\n",
      "        [-0.0298, -0.0279,  0.0198,  ...,  0.0058,  0.0302, -0.0105],\n",
      "        [-0.0122,  0.0353, -0.0217,  ...,  0.0022, -0.0133,  0.0260],\n",
      "        ...,\n",
      "        [ 0.0285, -0.0309,  0.0155,  ..., -0.0139, -0.0218,  0.0123],\n",
      "        [ 0.0141, -0.0244,  0.0138,  ...,  0.0193, -0.0189, -0.0300],\n",
      "        [ 0.0065,  0.0211, -0.0267,  ...,  0.0354, -0.0229, -0.0170]],\n",
      "       requires_grad=True)\n",
      "Parameter containing:\n",
      "tensor([ 0.0280, -0.0077, -0.0232, -0.0012, -0.0312, -0.0100, -0.0258,  0.0211,\n",
      "         0.0187, -0.0321, -0.0222,  0.0089, -0.0333,  0.0131, -0.0353, -0.0186,\n",
      "         0.0349, -0.0024,  0.0043, -0.0088, -0.0081, -0.0211,  0.0173, -0.0133,\n",
      "         0.0291,  0.0299, -0.0023, -0.0270, -0.0115, -0.0250,  0.0041,  0.0143,\n",
      "         0.0301,  0.0350,  0.0272, -0.0274, -0.0254,  0.0305, -0.0220, -0.0066,\n",
      "        -0.0057,  0.0296,  0.0213,  0.0241,  0.0069, -0.0324,  0.0030,  0.0349,\n",
      "         0.0184, -0.0316,  0.0258,  0.0283, -0.0314, -0.0073,  0.0099, -0.0190,\n",
      "        -0.0192, -0.0335,  0.0194,  0.0172, -0.0209, -0.0162,  0.0038,  0.0298,\n",
      "         0.0188,  0.0104,  0.0011,  0.0008,  0.0037, -0.0026, -0.0349,  0.0209,\n",
      "        -0.0241,  0.0125, -0.0332, -0.0106,  0.0106, -0.0346,  0.0068, -0.0032,\n",
      "        -0.0086,  0.0280, -0.0205,  0.0322, -0.0287, -0.0008,  0.0273, -0.0294,\n",
      "         0.0023, -0.0078,  0.0204, -0.0264, -0.0232, -0.0282,  0.0208,  0.0297,\n",
      "        -0.0328,  0.0060, -0.0299,  0.0087,  0.0226,  0.0353,  0.0043, -0.0202,\n",
      "        -0.0346, -0.0253, -0.0337,  0.0321,  0.0185, -0.0179,  0.0041,  0.0305,\n",
      "        -0.0075, -0.0236,  0.0219,  0.0102, -0.0007, -0.0217,  0.0243,  0.0124,\n",
      "         0.0044,  0.0192,  0.0106,  0.0286, -0.0263, -0.0181, -0.0282, -0.0007],\n",
      "       requires_grad=True)\n"
     ]
    }
   ],
   "source": [
    "print(model.fc1.weight)\n",
    "print(model.fc1.bias)"
   ]
  },
  {
   "cell_type": "markdown",
   "metadata": {},
   "source": [
    "For custom initialization, we want to modify these tensors in place. These are actually autograd *Variables*, so we need to get back the actual tensors with `model.fc1.weight.data`. Once we have the tensors, we can fill them with zeros (for biases) or random normal values."
   ]
  },
  {
   "cell_type": "code",
   "execution_count": 35,
   "metadata": {},
   "outputs": [
    {
     "data": {
      "text/plain": [
       "tensor([0., 0., 0., 0., 0., 0., 0., 0., 0., 0., 0., 0., 0., 0., 0., 0., 0., 0.,\n",
       "        0., 0., 0., 0., 0., 0., 0., 0., 0., 0., 0., 0., 0., 0., 0., 0., 0., 0.,\n",
       "        0., 0., 0., 0., 0., 0., 0., 0., 0., 0., 0., 0., 0., 0., 0., 0., 0., 0.,\n",
       "        0., 0., 0., 0., 0., 0., 0., 0., 0., 0., 0., 0., 0., 0., 0., 0., 0., 0.,\n",
       "        0., 0., 0., 0., 0., 0., 0., 0., 0., 0., 0., 0., 0., 0., 0., 0., 0., 0.,\n",
       "        0., 0., 0., 0., 0., 0., 0., 0., 0., 0., 0., 0., 0., 0., 0., 0., 0., 0.,\n",
       "        0., 0., 0., 0., 0., 0., 0., 0., 0., 0., 0., 0., 0., 0., 0., 0., 0., 0.,\n",
       "        0., 0.])"
      ]
     },
     "execution_count": 35,
     "metadata": {},
     "output_type": "execute_result"
    }
   ],
   "source": [
    "# Set biases to all zeros\n",
    "model.fc1.bias.data.fill_(0)"
   ]
  },
  {
   "cell_type": "code",
   "execution_count": 36,
   "metadata": {},
   "outputs": [
    {
     "data": {
      "text/plain": [
       "tensor([[-0.0023,  0.0016,  0.0136,  ...,  0.0026,  0.0105,  0.0099],\n",
       "        [-0.0048, -0.0002, -0.0051,  ..., -0.0022,  0.0003,  0.0145],\n",
       "        [ 0.0299,  0.0189,  0.0084,  ..., -0.0021,  0.0077,  0.0052],\n",
       "        ...,\n",
       "        [ 0.0075,  0.0189,  0.0043,  ..., -0.0036, -0.0073, -0.0006],\n",
       "        [ 0.0109,  0.0133,  0.0067,  ...,  0.0114, -0.0082, -0.0052],\n",
       "        [-0.0030, -0.0020,  0.0087,  ..., -0.0185,  0.0140,  0.0105]])"
      ]
     },
     "execution_count": 36,
     "metadata": {},
     "output_type": "execute_result"
    }
   ],
   "source": [
    "# sample from random normal with standard dev = 0.01\n",
    "model.fc1.weight.data.normal_(std=0.01)"
   ]
  },
  {
   "cell_type": "markdown",
   "metadata": {},
   "source": [
    "### Forward pass\n",
    "\n",
    "Now that we have a network, let's see what happens when we pass in an image."
   ]
  },
  {
   "cell_type": "code",
   "execution_count": 37,
   "metadata": {},
   "outputs": [
    {
     "data": {
      "image/png": "[encoded data removed]",
      "text/plain": [
       "<Figure size 432x648 with 2 Axes>"
      ]
     },
     "metadata": {
      "image/png": {
       "height": 226,
       "width": 423
      },
      "needs_background": "light"
     },
     "output_type": "display_data"
    }
   ],
   "source": [
    "# Grab some data \n",
    "dataiter = iter(trainloader)\n",
    "images, labels = dataiter.next()\n",
    "\n",
    "# Resize images into a 1D vector, new shape is (batch size, color channels, image pixels) \n",
    "images.resize_(64, 1, 784)\n",
    "# or images.resize_(images.shape[0], 1, 784) to automatically get batch size\n",
    "\n",
    "# Forward pass through the network\n",
    "img_idx = 0\n",
    "ps = model.forward(images[img_idx,:])\n",
    "\n",
    "img = images[img_idx]\n",
    "helper.view_classify(img.view(1, 28, 28), ps)"
   ]
  },
  {
   "cell_type": "markdown",
   "metadata": {},
   "source": [
    "As you can see above, our network has basically no idea what this digit is. It's because we haven't trained it yet, all the weights are random!\n",
    "\n",
    "### Using `nn.Sequential`\n",
    "\n",
    "PyTorch provides a convenient way to build networks like this where a tensor is passed sequentially through operations, `nn.Sequential` ([documentation](https://pytorch.org/docs/master/nn.html#torch.nn.Sequential)). Using this to build the equivalent network:"
   ]
  },
  {
   "cell_type": "code",
   "execution_count": 38,
   "metadata": {},
   "outputs": [
    {
     "name": "stdout",
     "output_type": "stream",
     "text": [
      "Sequential(\n",
      "  (0): Linear(in_features=784, out_features=128, bias=True)\n",
      "  (1): ReLU()\n",
      "  (2): Linear(in_features=128, out_features=64, bias=True)\n",
      "  (3): ReLU()\n",
      "  (4): Linear(in_features=64, out_features=10, bias=True)\n",
      "  (5): Softmax()\n",
      ")\n"
     ]
    },
    {
     "data": {
      "image/png": "[encoded data removed]",
      "text/plain": [
       "<Figure size 432x648 with 2 Axes>"
      ]
     },
     "metadata": {
      "image/png": {
       "height": 226,
       "width": 423
      },
      "needs_background": "light"
     },
     "output_type": "display_data"
    }
   ],
   "source": [
    "# Hyperparameters for our network\n",
    "input_size = 784\n",
    "hidden_sizes = [128, 64]\n",
    "output_size = 10\n",
    "\n",
    "# Build a feed-forward network\n",
    "model = nn.Sequential(nn.Linear(input_size, hidden_sizes[0]),\n",
    "                      nn.ReLU(),\n",
    "                      nn.Linear(hidden_sizes[0], hidden_sizes[1]),\n",
    "                      nn.ReLU(),\n",
    "                      nn.Linear(hidden_sizes[1], output_size),\n",
    "                      nn.Softmax(dim=1))\n",
    "print(model)\n",
    "\n",
    "# Forward pass through the network and display output\n",
    "images, labels = next(iter(trainloader))\n",
    "images.resize_(images.shape[0], 1, 784)\n",
    "ps = model.forward(images[0,:])\n",
    "helper.view_classify(images[0].view(1, 28, 28), ps)"
   ]
  },
  {
   "cell_type": "markdown",
   "metadata": {},
   "source": [
    "The operations are availble by passing in the appropriate index. For example, if you want to get first Linear operation and look at the weights, you'd use `model[0]`."
   ]
  },
  {
   "cell_type": "code",
   "execution_count": 39,
   "metadata": {},
   "outputs": [
    {
     "name": "stdout",
     "output_type": "stream",
     "text": [
      "Linear(in_features=784, out_features=128, bias=True)\n"
     ]
    },
    {
     "data": {
      "text/plain": [
       "Parameter containing:\n",
       "tensor([[-0.0071, -0.0121, -0.0158,  ..., -0.0265, -0.0103, -0.0254],\n",
       "        [-0.0205,  0.0027, -0.0055,  ...,  0.0297, -0.0019,  0.0112],\n",
       "        [ 0.0275,  0.0118,  0.0039,  ..., -0.0169,  0.0127,  0.0066],\n",
       "        ...,\n",
       "        [ 0.0204,  0.0141, -0.0180,  ...,  0.0192,  0.0126,  0.0193],\n",
       "        [-0.0124, -0.0115,  0.0108,  ...,  0.0119, -0.0194,  0.0088],\n",
       "        [-0.0228,  0.0167, -0.0144,  ...,  0.0076,  0.0342, -0.0353]],\n",
       "       requires_grad=True)"
      ]
     },
     "execution_count": 39,
     "metadata": {},
     "output_type": "execute_result"
    }
   ],
   "source": [
    "print(model[0])\n",
    "model[0].weight"
   ]
  },
  {
   "cell_type": "markdown",
   "metadata": {},
   "source": [
    "You can also pass in an `OrderedDict` to name the individual layers and operations, instead of using incremental integers. Note that dictionary keys must be unique, so _each operation must have a different name_."
   ]
  },
  {
   "cell_type": "code",
   "execution_count": 40,
   "metadata": {},
   "outputs": [
    {
     "data": {
      "text/plain": [
       "Sequential(\n",
       "  (fc1): Linear(in_features=784, out_features=128, bias=True)\n",
       "  (relu1): ReLU()\n",
       "  (fc2): Linear(in_features=128, out_features=64, bias=True)\n",
       "  (relu2): ReLU()\n",
       "  (output): Linear(in_features=64, out_features=10, bias=True)\n",
       "  (softmax): Softmax()\n",
       ")"
      ]
     },
     "execution_count": 40,
     "metadata": {},
     "output_type": "execute_result"
    }
   ],
   "source": [
    "from collections import OrderedDict\n",
    "model = nn.Sequential(OrderedDict([\n",
    "                      ('fc1', nn.Linear(input_size, hidden_sizes[0])),\n",
    "                      ('relu1', nn.ReLU()),\n",
    "                      ('fc2', nn.Linear(hidden_sizes[0], hidden_sizes[1])),\n",
    "                      ('relu2', nn.ReLU()),\n",
    "                      ('output', nn.Linear(hidden_sizes[1], output_size)),\n",
    "                      ('softmax', nn.Softmax(dim=1))]))\n",
    "model"
   ]
  },
  {
   "cell_type": "markdown",
   "metadata": {},
   "source": [
    "Now you can access layers either by integer or the name"
   ]
  },
  {
   "cell_type": "code",
   "execution_count": 41,
   "metadata": {},
   "outputs": [
    {
     "name": "stdout",
     "output_type": "stream",
     "text": [
      "Linear(in_features=784, out_features=128, bias=True)\n",
      "Linear(in_features=784, out_features=128, bias=True)\n"
     ]
    }
   ],
   "source": [
    "print(model[0])\n",
    "print(model.fc1)"
   ]
  },
  {
   "cell_type": "markdown",
   "metadata": {},
   "source": [
    "In the next notebook, we'll see how we can train a neural network to accuractly predict the numbers appearing in the MNIST images."
   ]
  }
 ],
 "metadata": {
  "kernelspec": {
   "display_name": "Python 3",
   "language": "python",
   "name": "python3"
  },
  "language_info": {
   "codemirror_mode": {
    "name": "ipython",
    "version": 3
   },
   "file_extension": ".py",
   "mimetype": "text/x-python",
   "name": "python",
   "nbconvert_exporter": "python",
   "pygments_lexer": "ipython3",
   "version": "3.6.6"
  }
 },
 "nbformat": 4,
 "nbformat_minor": 2
}
